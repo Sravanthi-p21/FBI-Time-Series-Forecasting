{
 "cells": [
  {
   "cell_type": "markdown",
   "id": "f643276d",
   "metadata": {},
   "source": [
    "Inference"
   ]
  },
  {
   "cell_type": "code",
   "execution_count": 4,
   "id": "0f19185d",
   "metadata": {},
   "outputs": [
    {
     "data": {
      "text/html": [
       "<div>\n",
       "<style scoped>\n",
       "    .dataframe tbody tr th:only-of-type {\n",
       "        vertical-align: middle;\n",
       "    }\n",
       "\n",
       "    .dataframe tbody tr th {\n",
       "        vertical-align: top;\n",
       "    }\n",
       "\n",
       "    .dataframe thead th {\n",
       "        text-align: right;\n",
       "    }\n",
       "</style>\n",
       "<table border=\"1\" class=\"dataframe\">\n",
       "  <thead>\n",
       "    <tr style=\"text-align: right;\">\n",
       "      <th></th>\n",
       "      <th>YEAR</th>\n",
       "      <th>MONTH</th>\n",
       "      <th>TYPE</th>\n",
       "      <th>Incident_Counts</th>\n",
       "    </tr>\n",
       "  </thead>\n",
       "  <tbody>\n",
       "    <tr>\n",
       "      <th>0</th>\n",
       "      <td>2013</td>\n",
       "      <td>6</td>\n",
       "      <td>Vehicle Collision or Pedestrian Struck (with I...</td>\n",
       "      <td>NaN</td>\n",
       "    </tr>\n",
       "    <tr>\n",
       "      <th>1</th>\n",
       "      <td>2013</td>\n",
       "      <td>6</td>\n",
       "      <td>Theft of Vehicle</td>\n",
       "      <td>NaN</td>\n",
       "    </tr>\n",
       "    <tr>\n",
       "      <th>2</th>\n",
       "      <td>2013</td>\n",
       "      <td>6</td>\n",
       "      <td>Theft of Bicycle</td>\n",
       "      <td>NaN</td>\n",
       "    </tr>\n",
       "    <tr>\n",
       "      <th>3</th>\n",
       "      <td>2013</td>\n",
       "      <td>6</td>\n",
       "      <td>Theft from Vehicle</td>\n",
       "      <td>NaN</td>\n",
       "    </tr>\n",
       "    <tr>\n",
       "      <th>4</th>\n",
       "      <td>2013</td>\n",
       "      <td>6</td>\n",
       "      <td>Other Theft</td>\n",
       "      <td>NaN</td>\n",
       "    </tr>\n",
       "  </tbody>\n",
       "</table>\n",
       "</div>"
      ],
      "text/plain": [
       "   YEAR  MONTH                                               TYPE  \\\n",
       "0  2013      6  Vehicle Collision or Pedestrian Struck (with I...   \n",
       "1  2013      6                                   Theft of Vehicle   \n",
       "2  2013      6                                   Theft of Bicycle   \n",
       "3  2013      6                                 Theft from Vehicle   \n",
       "4  2013      6                                        Other Theft   \n",
       "\n",
       "   Incident_Counts  \n",
       "0              NaN  \n",
       "1              NaN  \n",
       "2              NaN  \n",
       "3              NaN  \n",
       "4              NaN  "
      ]
     },
     "execution_count": 4,
     "metadata": {},
     "output_type": "execute_result"
    }
   ],
   "source": [
    "import pandas as pd\n",
    "test_df = pd.read_csv(\"raw/test.csv\",sep=\",\")\n",
    "train_df = pd.read_csv(\"raw/train.csv\",sep=\",\")\n",
    "test_df.head()"
   ]
  },
  {
   "cell_type": "code",
   "execution_count": 5,
   "id": "d021ed18",
   "metadata": {},
   "outputs": [
    {
     "data": {
      "text/plain": [
       "(162, 4)"
      ]
     },
     "execution_count": 5,
     "metadata": {},
     "output_type": "execute_result"
    }
   ],
   "source": [
    "test_df.shape"
   ]
  },
  {
   "cell_type": "code",
   "execution_count": 6,
   "id": "bfa9affe",
   "metadata": {},
   "outputs": [],
   "source": [
    "from sklearn.preprocessing import LabelEncoder\n",
    "import numpy as np\n",
    "\n",
    "# Encode categorical columns using the same LabelEncoder used for training\n",
    "le_TYPE = LabelEncoder()\n",
    "test_df['TYPE_encoded'] = le_TYPE.fit_transform(test_df['TYPE'])\n",
    "\n",
    "\n",
    "# Create cyclical features\n",
    "test_df['month_sin'] = np.sin(2 * np.pi * test_df['MONTH'] / 12)\n",
    "test_df['month_cos'] = np.cos(2 * np.pi * test_df['MONTH'] / 12)\n",
    "\n",
    "\n"
   ]
  },
  {
   "cell_type": "code",
   "execution_count": 7,
   "id": "f1cc1931",
   "metadata": {},
   "outputs": [],
   "source": [
    "\n",
    "# Combine last few months from training with test\n",
    "combined_df = pd.concat([train_df[['YEAR', 'MONTH', 'TYPE']], test_df], sort=False)"
   ]
  },
  {
   "cell_type": "code",
   "execution_count": 8,
   "id": "ae9e74a0",
   "metadata": {},
   "outputs": [],
   "source": [
    "# Sort and group\n",
    "combined_df.sort_values(['TYPE', 'YEAR', 'MONTH'], inplace=True)\n",
    "combined_df['lag_1'] = combined_df.groupby('TYPE')['Incident_Counts'].shift(1)\n",
    "combined_df['rolling_mean_3'] = combined_df.groupby('TYPE')['Incident_Counts'].shift(1).rolling(3).mean().reset_index(0, drop=True)\n"
   ]
  },
  {
   "cell_type": "code",
   "execution_count": 9,
   "id": "05b09c5f",
   "metadata": {},
   "outputs": [],
   "source": [
    "\n",
    "# Get the test rows again (they will have NaNs if they are too early in the series)\n",
    "test_processed = combined_df[combined_df['Incident_Counts'].isna()].copy()\n"
   ]
  },
  {
   "cell_type": "code",
   "execution_count": 10,
   "id": "4c181ca5",
   "metadata": {},
   "outputs": [],
   "source": [
    "test_processed[['lag_1', 'rolling_mean_3']] = test_processed[['lag_1', 'rolling_mean_3']].fillna(0)\n"
   ]
  },
  {
   "cell_type": "code",
   "execution_count": 11,
   "id": "d3dbd50b",
   "metadata": {},
   "outputs": [
    {
     "data": {
      "text/html": [
       "<div>\n",
       "<style scoped>\n",
       "    .dataframe tbody tr th:only-of-type {\n",
       "        vertical-align: middle;\n",
       "    }\n",
       "\n",
       "    .dataframe tbody tr th {\n",
       "        vertical-align: top;\n",
       "    }\n",
       "\n",
       "    .dataframe thead th {\n",
       "        text-align: right;\n",
       "    }\n",
       "</style>\n",
       "<table border=\"1\" class=\"dataframe\">\n",
       "  <thead>\n",
       "    <tr style=\"text-align: right;\">\n",
       "      <th></th>\n",
       "      <th>YEAR</th>\n",
       "      <th>MONTH</th>\n",
       "      <th>TYPE</th>\n",
       "      <th>Incident_Counts</th>\n",
       "      <th>TYPE_encoded</th>\n",
       "      <th>month_sin</th>\n",
       "      <th>month_cos</th>\n",
       "      <th>lag_1</th>\n",
       "      <th>rolling_mean_3</th>\n",
       "    </tr>\n",
       "  </thead>\n",
       "  <tbody>\n",
       "    <tr>\n",
       "      <th>36</th>\n",
       "      <td>2013</td>\n",
       "      <td>2</td>\n",
       "      <td>Vehicle Collision or Pedestrian Struck (with I...</td>\n",
       "      <td>NaN</td>\n",
       "      <td>8.0</td>\n",
       "      <td>8.660254e-01</td>\n",
       "      <td>5.000000e-01</td>\n",
       "      <td>0.0</td>\n",
       "      <td>0.0</td>\n",
       "    </tr>\n",
       "    <tr>\n",
       "      <th>27</th>\n",
       "      <td>2013</td>\n",
       "      <td>3</td>\n",
       "      <td>Vehicle Collision or Pedestrian Struck (with I...</td>\n",
       "      <td>NaN</td>\n",
       "      <td>8.0</td>\n",
       "      <td>1.000000e+00</td>\n",
       "      <td>6.123234e-17</td>\n",
       "      <td>0.0</td>\n",
       "      <td>0.0</td>\n",
       "    </tr>\n",
       "    <tr>\n",
       "      <th>18</th>\n",
       "      <td>2013</td>\n",
       "      <td>4</td>\n",
       "      <td>Vehicle Collision or Pedestrian Struck (with I...</td>\n",
       "      <td>NaN</td>\n",
       "      <td>8.0</td>\n",
       "      <td>8.660254e-01</td>\n",
       "      <td>-5.000000e-01</td>\n",
       "      <td>0.0</td>\n",
       "      <td>0.0</td>\n",
       "    </tr>\n",
       "    <tr>\n",
       "      <th>9</th>\n",
       "      <td>2013</td>\n",
       "      <td>5</td>\n",
       "      <td>Vehicle Collision or Pedestrian Struck (with I...</td>\n",
       "      <td>NaN</td>\n",
       "      <td>8.0</td>\n",
       "      <td>5.000000e-01</td>\n",
       "      <td>-8.660254e-01</td>\n",
       "      <td>0.0</td>\n",
       "      <td>0.0</td>\n",
       "    </tr>\n",
       "    <tr>\n",
       "      <th>0</th>\n",
       "      <td>2013</td>\n",
       "      <td>6</td>\n",
       "      <td>Vehicle Collision or Pedestrian Struck (with I...</td>\n",
       "      <td>NaN</td>\n",
       "      <td>8.0</td>\n",
       "      <td>1.224647e-16</td>\n",
       "      <td>-1.000000e+00</td>\n",
       "      <td>0.0</td>\n",
       "      <td>0.0</td>\n",
       "    </tr>\n",
       "  </tbody>\n",
       "</table>\n",
       "</div>"
      ],
      "text/plain": [
       "    YEAR  MONTH                                               TYPE  \\\n",
       "36  2013      2  Vehicle Collision or Pedestrian Struck (with I...   \n",
       "27  2013      3  Vehicle Collision or Pedestrian Struck (with I...   \n",
       "18  2013      4  Vehicle Collision or Pedestrian Struck (with I...   \n",
       "9   2013      5  Vehicle Collision or Pedestrian Struck (with I...   \n",
       "0   2013      6  Vehicle Collision or Pedestrian Struck (with I...   \n",
       "\n",
       "    Incident_Counts  TYPE_encoded     month_sin     month_cos  lag_1  \\\n",
       "36              NaN           8.0  8.660254e-01  5.000000e-01    0.0   \n",
       "27              NaN           8.0  1.000000e+00  6.123234e-17    0.0   \n",
       "18              NaN           8.0  8.660254e-01 -5.000000e-01    0.0   \n",
       "9               NaN           8.0  5.000000e-01 -8.660254e-01    0.0   \n",
       "0               NaN           8.0  1.224647e-16 -1.000000e+00    0.0   \n",
       "\n",
       "    rolling_mean_3  \n",
       "36             0.0  \n",
       "27             0.0  \n",
       "18             0.0  \n",
       "9              0.0  \n",
       "0              0.0  "
      ]
     },
     "execution_count": 11,
     "metadata": {},
     "output_type": "execute_result"
    }
   ],
   "source": [
    "test_processed.tail()"
   ]
  },
  {
   "cell_type": "code",
   "execution_count": 12,
   "id": "269c7883",
   "metadata": {},
   "outputs": [
    {
     "name": "stdout",
     "output_type": "stream",
     "text": [
      "Train columns: ['TYPE', 'HUNDRED_BLOCK', 'NEIGHBOURHOOD', 'X', 'Y', 'Latitude', 'Longitude', 'HOUR', 'MINUTE', 'YEAR', 'MONTH', 'DAY', 'Date']\n",
      "Test columns: ['YEAR', 'MONTH', 'TYPE', 'Incident_Counts', 'TYPE_encoded', 'month_sin', 'month_cos']\n"
     ]
    }
   ],
   "source": [
    "print(\"Train columns:\", train_df.columns.tolist())\n",
    "print(\"Test columns:\", test_df.columns.tolist())\n"
   ]
  },
  {
   "cell_type": "code",
   "execution_count": 13,
   "id": "c19af012",
   "metadata": {},
   "outputs": [],
   "source": [
    "def patch_test_df(test_df):\n",
    "    patched_df = test_df.copy()\n",
    "\n",
    "    # Add default values for missing columns\n",
    "    if 'Latitude' not in patched_df.columns:\n",
    "        patched_df['Latitude'] = 0.0\n",
    "    if 'Longitude' not in patched_df.columns:\n",
    "        patched_df['Longitude'] = 0.0\n",
    "    if 'NEIGHBOURHOOD' not in patched_df.columns:\n",
    "        patched_df['NEIGHBOURHOOD'] = 'Unknown'\n",
    "    if 'TYPE' not in patched_df.columns:\n",
    "        raise ValueError(\"Test data must include 'TYPE' column.\")\n",
    "    if 'YEAR' not in patched_df.columns or 'month' not in patched_df.columns:\n",
    "        if 'Date' in patched_df.columns:\n",
    "            patched_df['DATE'] = pd.to_datetime(patched_df['DATE'], errors='coerce')\n",
    "            patched_df['YEAR'] = patched_df['DATE'].dt.year\n",
    "            patched_df['MONTH'] = patched_df['DATE'].dt.month\n",
    "        else:\n",
    "            raise ValueError(\"Test data must have 'YEAR' and 'MONTH', or a 'DATE' column.\")\n",
    "\n",
    "    return patched_df\n"
   ]
  },
  {
   "cell_type": "code",
   "execution_count": 14,
   "id": "e3479183",
   "metadata": {},
   "outputs": [
    {
     "name": "stdout",
     "output_type": "stream",
     "text": [
      "   YEAR  MONTH                        TYPE  predicted_incident_count\n",
      "0  2012      1  Break and Enter Commercial                224.976456\n",
      "1  2012      2  Break and Enter Commercial                249.340000\n",
      "2  2012      3  Break and Enter Commercial                249.340000\n",
      "3  2012      4  Break and Enter Commercial                249.340000\n",
      "4  2012      5  Break and Enter Commercial                249.340000\n"
     ]
    }
   ],
   "source": [
    "import pandas as pd\n",
    "import numpy as np\n",
    "from sklearn.ensemble import RandomForestRegressor\n",
    "from sklearn.cluster import KMeans\n",
    "from sklearn.metrics import mean_squared_error\n",
    "from sklearn.preprocessing import LabelEncoder\n",
    "\n",
    "# STEP 1: Encode TYPE\n",
    "le_TYPE = LabelEncoder()\n",
    "train_df['TYPE_encoded'] = le_TYPE.fit_transform(train_df['TYPE'])\n",
    "\n",
    "# STEP 2: Prepare Training Features\n",
    "def build_training_features(df):\n",
    "    df = df.copy()\n",
    "    \n",
    "    # Frequency encode TYPE\n",
    "    crime_counts = df['TYPE'].value_counts()\n",
    "    df['crime_type_freq'] = df['TYPE'].map(crime_counts)\n",
    "    \n",
    "    # KMeans cluster for coordinates\n",
    "    coords = df[['Latitude', 'Longitude']].dropna()\n",
    "    kmeans = KMeans(n_clusters=20, random_state=42).fit(coords)\n",
    "    df['location_cluster'] = kmeans.predict(df[['Latitude', 'Longitude']].fillna(0))\n",
    "    \n",
    "    # Neighborhood crime count\n",
    "    neighborhood_crime = df.groupby('NEIGHBOURHOOD').size().reset_index(name='nhood_crime_count')\n",
    "    df = df.merge(neighborhood_crime, on='NEIGHBOURHOOD', how='left')\n",
    "    \n",
    "    # Monthly aggregation\n",
    "    df_monthly = df.groupby(['YEAR', 'MONTH', 'TYPE']).size().reset_index(name='incident_count')\n",
    "    df_monthly.sort_values(['TYPE', 'YEAR', 'MONTH'], inplace=True)\n",
    "    df_monthly['lag_1'] = df_monthly.groupby('TYPE')['incident_count'].shift(1).fillna(0)\n",
    "    df_monthly['rolling_mean_3'] = (\n",
    "        df_monthly.groupby('TYPE')['incident_count']\n",
    "        .shift(1).rolling(3).mean().reset_index(0, drop=True).fillna(0)\n",
    "    )\n",
    "\n",
    "    # Merge with encodings\n",
    "    df = df.merge(df_monthly, on=['YEAR', 'MONTH', 'TYPE'], how='inner')\n",
    "    df = df[['lag_1', 'rolling_mean_3', 'crime_type_freq', 'location_cluster', 'nhood_crime_count', 'TYPE_encoded', 'incident_count']]\n",
    "    df = df.fillna(0)\n",
    "    \n",
    "    return df\n",
    "\n",
    "Xy = build_training_features(train_df)\n",
    "X_train = Xy.drop('incident_count', axis=1)\n",
    "y_train = Xy['incident_count']\n",
    "\n",
    "# STEP 3: Train the model\n",
    "model = RandomForestRegressor(n_estimators=100, max_depth=10, random_state=42)\n",
    "model.fit(X_train, y_train)\n",
    "\n",
    "# STEP 4: Use your function to predict on test data\n",
    "def prepare_test_data_in_memory(train_df, test_df, le_TYPE, model):\n",
    "    test_df = test_df.copy()\n",
    "    test_df['TYPE_encoded'] = le_TYPE.transform(test_df['TYPE'])\n",
    "    \n",
    "    crime_counts = train_df['TYPE'].value_counts()\n",
    "    test_df['crime_type_freq'] = test_df['TYPE'].map(crime_counts).fillna(crime_counts.min())\n",
    "    \n",
    "    if {'Latitude', 'Longitude'}.issubset(test_df.columns):\n",
    "        coords = train_df[['Latitude', 'Longitude']].dropna()\n",
    "        kmeans = KMeans(n_clusters=20, random_state=42).fit(coords)\n",
    "        test_coords = test_df[['Latitude', 'Longitude']].fillna(0)\n",
    "        test_df['location_cluster'] = kmeans.predict(test_coords)\n",
    "    else:\n",
    "        test_df['location_cluster'] = 0\n",
    "    \n",
    "    if 'NEIGHBOURHOOD' in test_df.columns:\n",
    "        neighborhood_crime = train_df.groupby('NEIGHBOURHOOD').size().reset_index(name='nhood_crime_count')\n",
    "        test_df = test_df.merge(neighborhood_crime, on='NEIGHBOURHOOD', how='left')\n",
    "        test_df['nhood_crime_count'] = test_df['nhood_crime_count'].fillna(0)\n",
    "    else:\n",
    "        test_df['nhood_crime_count'] = 0\n",
    "\n",
    "    train_monthly = train_df.groupby(['YEAR', 'MONTH', 'TYPE']).size().reset_index(name='incident_count')\n",
    "    test_df['incident_count'] = np.nan\n",
    "\n",
    "    combined = pd.concat([\n",
    "        train_monthly,\n",
    "        test_df[['YEAR', 'MONTH', 'TYPE', 'incident_count']]\n",
    "    ], sort=False)\n",
    "\n",
    "    combined.sort_values(['TYPE', 'YEAR', 'MONTH'], inplace=True)\n",
    "    combined['lag_1'] = combined.groupby('TYPE')['incident_count'].shift(1)\n",
    "    combined['rolling_mean_3'] = (\n",
    "        combined.groupby('TYPE')['incident_count']\n",
    "        .shift(1).rolling(3).mean().reset_index(0, drop=True)\n",
    "    )\n",
    "\n",
    "    enriched_test = combined[combined['incident_count'].isna()].copy()\n",
    "    enriched_test = enriched_test.merge(test_df, on=['YEAR', 'MONTH', 'TYPE'], how='left')\n",
    "    enriched_test['lag_1'] = enriched_test['lag_1'].fillna(0)\n",
    "    enriched_test['rolling_mean_3'] = enriched_test['rolling_mean_3'].fillna(0)\n",
    "\n",
    "    final_features = [\n",
    "        'lag_1', 'rolling_mean_3', 'crime_type_freq',\n",
    "        'location_cluster', 'nhood_crime_count', 'TYPE_encoded'\n",
    "    ]\n",
    "    enriched_test[final_features] = enriched_test[final_features].fillna(0)\n",
    "    enriched_test['predicted_incident_count'] = model.predict(enriched_test[final_features])\n",
    "    \n",
    "    return enriched_test[['YEAR', 'MONTH', 'TYPE', 'predicted_incident_count']]\n",
    "\n",
    "# STEP 5: Predict on test_df\n",
    "result_df = prepare_test_data_in_memory(train_df, test_df, le_TYPE, model)\n",
    "print(result_df.head())\n"
   ]
  },
  {
   "cell_type": "code",
   "execution_count": null,
   "id": "1fb63ad7",
   "metadata": {},
   "outputs": [
    {
     "name": "stdout",
     "output_type": "stream",
     "text": [
      "   YEAR  MONTH                        TYPE  predicted_incident_count\n",
      "0  2012      1  Break and Enter Commercial                224.976456\n",
      "1  2012      2  Break and Enter Commercial                249.340000\n",
      "2  2012      3  Break and Enter Commercial                249.340000\n",
      "3  2012      4  Break and Enter Commercial                249.340000\n",
      "4  2012      5  Break and Enter Commercial                249.340000\n"
     ]
    }
   ],
   "source": [
    "result_df = prepare_test_data_in_memory(train_df, test_df, le_TYPE, model)\n",
    "print(result_df.head())\n"
   ]
  },
  {
   "cell_type": "code",
   "execution_count": null,
   "id": "97e64513",
   "metadata": {},
   "outputs": [],
   "source": [
    "result_df[['YEAR', 'MONTH', 'TYPE', 'predicted_incident_count']].to_csv(\"predictions.csv\", index=False)\n"
   ]
  }
 ],
 "metadata": {
  "kernelspec": {
   "display_name": "venv",
   "language": "python",
   "name": "python3"
  },
  "language_info": {
   "codemirror_mode": {
    "name": "ipython",
    "version": 3
   },
   "file_extension": ".py",
   "mimetype": "text/x-python",
   "name": "python",
   "nbconvert_exporter": "python",
   "pygments_lexer": "ipython3",
   "version": "3.12.5"
  }
 },
 "nbformat": 4,
 "nbformat_minor": 5
}
